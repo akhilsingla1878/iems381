{
 "cells": [
  {
   "attachments": {},
   "cell_type": "markdown",
   "metadata": {},
   "source": [
    "# Homework 1 – Algorithms and Heuristics \n",
    "\n",
    "### Due: October 5, 2022 \n",
    "\n",
    "##### The data sets are posted on Canvas. . Please complete your work in the cells specified in this Jupyter Notebook and submit your updated file!"
   ]
  },
  {
   "cell_type": "code",
   "execution_count": 2,
   "metadata": {},
   "outputs": [
    {
     "name": "stdout",
     "output_type": "stream",
     "text": [
      "Collecting amplpy\n",
      "  Downloading amplpy-0.8.5-cp38-cp38-win_amd64.whl (2.1 MB)\n",
      "Requirement already satisfied: future>=0.15.0 in c:\\users\\jhwilson\\anaconda3\\lib\\site-packages (from amplpy) (0.18.2)\n",
      "Collecting ampltools\n",
      "  Downloading ampltools-0.2.5.tar.gz (5.4 kB)\n",
      "Building wheels for collected packages: ampltools\n",
      "  Building wheel for ampltools (setup.py): started\n",
      "  Building wheel for ampltools (setup.py): finished with status 'done'\n",
      "  Created wheel for ampltools: filename=ampltools-0.2.5-py3-none-any.whl size=5031 sha256=9c80953cc96fb428a9639199dee902b2507cd35b5356be2e1af9ff1881b68ed6\n",
      "  Stored in directory: c:\\users\\jhwilson\\appdata\\local\\pip\\cache\\wheels\\41\\7d\\ea\\550e3c9306cf70a96f81476db3efcf01bd16920c56a83de8a6\n",
      "Successfully built ampltools\n",
      "Installing collected packages: ampltools, amplpy\n",
      "Successfully installed amplpy-0.8.5 ampltools-0.2.5\n"
     ]
    }
   ],
   "source": [
    "#Installing required packages, no need to run this cell again and again!\n",
    "!pip install amplpy"
   ]
  },
  {
   "cell_type": "code",
   "execution_count": 3,
   "metadata": {},
   "outputs": [
    {
     "ename": "ModuleNotFoundError",
     "evalue": "No module named 'cv2'",
     "output_type": "error",
     "traceback": [
      "\u001b[1;31m---------------------------------------------------------------------------\u001b[0m",
      "\u001b[1;31mModuleNotFoundError\u001b[0m                       Traceback (most recent call last)",
      "\u001b[1;32m<ipython-input-3-6ac5c138f0b6>\u001b[0m in \u001b[0;36m<module>\u001b[1;34m\u001b[0m\n\u001b[0;32m      4\u001b[0m \u001b[1;32mimport\u001b[0m \u001b[0mos\u001b[0m\u001b[1;33m\u001b[0m\u001b[1;33m\u001b[0m\u001b[0m\n\u001b[0;32m      5\u001b[0m \u001b[1;32mimport\u001b[0m \u001b[0mpandas\u001b[0m \u001b[1;32mas\u001b[0m \u001b[0mpd\u001b[0m\u001b[1;33m\u001b[0m\u001b[1;33m\u001b[0m\u001b[0m\n\u001b[1;32m----> 6\u001b[1;33m \u001b[1;32mimport\u001b[0m \u001b[0mcv2\u001b[0m\u001b[1;33m\u001b[0m\u001b[1;33m\u001b[0m\u001b[0m\n\u001b[0m",
      "\u001b[1;31mModuleNotFoundError\u001b[0m: No module named 'cv2'"
     ]
    }
   ],
   "source": [
    "# Importing relevant packages.\n",
    "from amplpy import AMPL, DataFrame, Environment\n",
    "import sys\n",
    "import os\n",
    "import pandas as pd\n",
    "import cv2"
   ]
  },
  {
   "cell_type": "markdown",
   "metadata": {},
   "source": [
    "## Problem-1 Bin Packing\n",
    "\n",
    "#### Context: We have “m” tasks of “t_i” duration each. We need to assign these tasks to minimum number of agents, where each agent can work for only “T” amount of total time for the tasks. The variation can be to fairly distribute the tasks such that every agent has similar amount of work to perform, as they are paid equally.  (order of tasks doesn’t matter)\n",
    "\n",
    "Questions:\n",
    "1.\tFormulate the problem mathematically (minimize number of workers)\n",
    "2.\t#and solve it on AMPL (no need)\n",
    "3.\tImplement two heuristics (including FFD) to solve the basic problem?\n",
    "4.\tUse the best solution for \n",
    "5.\tHow will the heuristic change if we add “fairness of allocation” to the problem?  Do you think this accomplishes equal work?  Why or why not?"
   ]
  },
  {
   "cell_type": "code",
   "execution_count": 4,
   "metadata": {},
   "outputs": [],
   "source": [
    "# take m=100 and T = 10\n",
    "# generate 100 random variables from Normal distribution norm.dist(mean=4 and variance=2)\n",
    "# solve the written formulation using AMPL model\n",
    "# write a block for First Fit Decreasing heuristic to solve the same problem."
   ]
  },
  {
   "cell_type": "markdown",
   "metadata": {},
   "source": [
    "## Problem #2: Set Covering\n",
    "\n",
    "#### Context: (a one-time decision-making problem like opening a store, school) opening schools with given household locations. To do it, we can divide the whole region in small grids and then do the analysis to find the optimal grid locations to open schools. Given that each grid can cover population from certain number of grids only.  \n",
    "\n",
    "1. Formulate the problem mathematically below:\n",
    "\n",
    "Formulation: (______________Your Answer Here______________)\n",
    "\n",
    "\n",
    "2. Solve Using AMPL exactly. \n",
    "Your .mod and .dat files should be listed below"
   ]
  },
  {
   "cell_type": "code",
   "execution_count": 5,
   "metadata": {},
   "outputs": [
    {
     "ename": "NameError",
     "evalue": "name 'cv2' is not defined",
     "output_type": "error",
     "traceback": [
      "\u001b[1;31m---------------------------------------------------------------------------\u001b[0m",
      "\u001b[1;31mNameError\u001b[0m                                 Traceback (most recent call last)",
      "\u001b[1;32m<ipython-input-5-8d8a0f2b8416>\u001b[0m in \u001b[0;36m<module>\u001b[1;34m\u001b[0m\n\u001b[0;32m      1\u001b[0m \u001b[1;31m# Outlining image\u001b[0m\u001b[1;33m\u001b[0m\u001b[1;33m\u001b[0m\u001b[1;33m\u001b[0m\u001b[0m\n\u001b[0;32m      2\u001b[0m \u001b[1;33m\u001b[0m\u001b[0m\n\u001b[1;32m----> 3\u001b[1;33m \u001b[0mimage\u001b[0m \u001b[1;33m=\u001b[0m \u001b[0mcv2\u001b[0m\u001b[1;33m.\u001b[0m\u001b[0mimread\u001b[0m\u001b[1;33m(\u001b[0m\u001b[1;34m'C:\\\\Users\\\\vikra\\\\Downloads\\\\colorado.jpg'\u001b[0m\u001b[1;33m)\u001b[0m\u001b[1;33m\u001b[0m\u001b[1;33m\u001b[0m\u001b[0m\n\u001b[0m\u001b[0;32m      4\u001b[0m \u001b[1;33m\u001b[0m\u001b[0m\n\u001b[0;32m      5\u001b[0m \u001b[0mheight\u001b[0m \u001b[1;33m=\u001b[0m \u001b[0mimage\u001b[0m\u001b[1;33m.\u001b[0m\u001b[0mshape\u001b[0m\u001b[1;33m[\u001b[0m\u001b[1;36m0\u001b[0m\u001b[1;33m]\u001b[0m\u001b[1;33m\u001b[0m\u001b[1;33m\u001b[0m\u001b[0m\n",
      "\u001b[1;31mNameError\u001b[0m: name 'cv2' is not defined"
     ]
    }
   ],
   "source": [
    "# Outlining image\n",
    "\n",
    "image = cv2.imread('C:\\\\Users\\\\vikra\\\\Downloads\\\\colorado.jpg')\n",
    "\n",
    "height = image.shape[0]\n",
    "width = image.shape[1]\n",
    "print(height)\n",
    "print(width)\n",
    "# corners - (55,28), (458,28), (44,333), (468,333)\n",
    "cv2.line(image, (55,28), (458,28), (255,0,0), 2)\n",
    "cv2.line(image, (44,333), (468,333), (0,255,0), 2)\n",
    "\n",
    "num_lines = 10\n",
    "width = int(412/num_lines)\n",
    "height = int(305/num_lines)\n",
    "i=0\n",
    "start_x = 50\n",
    "start_y = 28\n",
    "while i <= num_lines:\n",
    "    \n",
    "    cv2.line(image, (start_x,28), (start_x,333), (255,0,0), 2)\n",
    "    i = i +1\n",
    "    start_x = start_x + width\n",
    "j = 0\n",
    "while j <= num_lines:\n",
    "    cv2.line(image, (55,start_y), (458,start_y), (255,0,0), 2)\n",
    "    j = j +1\n",
    "    start_y = start_y + height\n",
    "    \n",
    "start_x = 50\n",
    "start_y = 28\n",
    "curr_x = start_x\n",
    "curr_y = start_y\n",
    "cor = []\n",
    "for i in range(0,num_lines):\n",
    "    \n",
    "    for j in range(0,num_lines):\n",
    "        cor.append((curr_x, curr_y))\n",
    "        curr_y = curr_y + height\n",
    "        \n",
    "    \n",
    "    curr_x = curr_x + width\n",
    "    \n",
    "# matrix of coordinates(long,lat)\n",
    "print(cor)\n",
    "print(len(cor))\n",
    "\n",
    "\n",
    "\n",
    "\n",
    "cv2.imshow(\"Image\", image)\n",
    "cv2.waitKey(0)\n",
    "cv2.destroyAllWindows()\n",
    "\n",
    "\n",
    "print(cor[0][1])\n",
    "# distance calculations\n",
    "# dis = []\n",
    "# for i in range(0,num_lines):\n",
    "#     for j in range(0, num_lines):\n",
    "        "
   ]
  },
  {
   "cell_type": "code",
   "execution_count": 6,
   "metadata": {},
   "outputs": [
    {
     "ename": "FileNotFoundError",
     "evalue": "[WinError 2] The system cannot find the file specified: 'C:\\\\Users\\\\[username]'",
     "output_type": "error",
     "traceback": [
      "\u001b[1;31m---------------------------------------------------------------------------\u001b[0m",
      "\u001b[1;31mFileNotFoundError\u001b[0m                         Traceback (most recent call last)",
      "\u001b[1;32m<ipython-input-6-640908e7c3a7>\u001b[0m in \u001b[0;36m<module>\u001b[1;34m\u001b[0m\n\u001b[0;32m      1\u001b[0m \u001b[1;31m# Set working Directory - Edit your path to ampl.mswin64 here\u001b[0m\u001b[1;33m\u001b[0m\u001b[1;33m\u001b[0m\u001b[1;33m\u001b[0m\u001b[0m\n\u001b[1;32m----> 2\u001b[1;33m \u001b[0mos\u001b[0m\u001b[1;33m.\u001b[0m\u001b[0mchdir\u001b[0m\u001b[1;33m(\u001b[0m\u001b[0mos\u001b[0m\u001b[1;33m.\u001b[0m\u001b[0mpath\u001b[0m\u001b[1;33m.\u001b[0m\u001b[0mdirname\u001b[0m\u001b[1;33m(\u001b[0m\u001b[1;34m'C:\\\\Users\\\\[username]\\\\ampl.mswin64'\u001b[0m\u001b[1;33m)\u001b[0m \u001b[1;32mor\u001b[0m \u001b[0mos\u001b[0m\u001b[1;33m.\u001b[0m\u001b[0mcurdir\u001b[0m\u001b[1;33m)\u001b[0m\u001b[1;33m\u001b[0m\u001b[1;33m\u001b[0m\u001b[0m\n\u001b[0m\u001b[0;32m      3\u001b[0m \u001b[1;33m\u001b[0m\u001b[0m\n\u001b[0;32m      4\u001b[0m \u001b[1;31m# Create an AMPL instance - Edit your path to ampl.mswin64 here\u001b[0m\u001b[1;33m\u001b[0m\u001b[1;33m\u001b[0m\u001b[1;33m\u001b[0m\u001b[0m\n\u001b[0;32m      5\u001b[0m \u001b[0mampl\u001b[0m \u001b[1;33m=\u001b[0m \u001b[0mAMPL\u001b[0m\u001b[1;33m(\u001b[0m\u001b[0mEnvironment\u001b[0m\u001b[1;33m(\u001b[0m\u001b[1;34m'C:\\\\Users\\\\[username]\\\\ampl.mswin64'\u001b[0m\u001b[1;33m)\u001b[0m\u001b[1;33m)\u001b[0m \u001b[1;31m# Use local ins\u001b[0m\u001b[1;33m\u001b[0m\u001b[1;33m\u001b[0m\u001b[0m\n",
      "\u001b[1;31mFileNotFoundError\u001b[0m: [WinError 2] The system cannot find the file specified: 'C:\\\\Users\\\\[username]'"
     ]
    }
   ],
   "source": [
    "# Set working Directory - Edit your path to ampl.mswin64 here\n",
    "os.chdir(os.path.dirname('C:\\\\Users\\\\[username]\\\\ampl.mswin64') or os.curdir)\n",
    "\n",
    "# Create an AMPL instance - Edit your path to ampl.mswin64 here\n",
    "ampl = AMPL(Environment('C:\\\\Users\\\\[username]\\\\ampl.mswin64')) # Use local ins\n"
   ]
  },
  {
   "cell_type": "code",
   "execution_count": 7,
   "metadata": {},
   "outputs": [
    {
     "ename": "NameError",
     "evalue": "name 'ampl' is not defined",
     "output_type": "error",
     "traceback": [
      "\u001b[1;31m---------------------------------------------------------------------------\u001b[0m",
      "\u001b[1;31mNameError\u001b[0m                                 Traceback (most recent call last)",
      "\u001b[1;32m<ipython-input-7-7cec67d39d29>\u001b[0m in \u001b[0;36m<module>\u001b[1;34m\u001b[0m\n\u001b[0;32m      4\u001b[0m \u001b[1;33m\u001b[0m\u001b[0m\n\u001b[0;32m      5\u001b[0m \u001b[1;31m#Edit cp.mod and cp.dat to your mod and dat files\u001b[0m\u001b[1;33m\u001b[0m\u001b[1;33m\u001b[0m\u001b[1;33m\u001b[0m\u001b[0m\n\u001b[1;32m----> 6\u001b[1;33m \u001b[0mampl\u001b[0m\u001b[1;33m.\u001b[0m\u001b[0mread\u001b[0m\u001b[1;33m(\u001b[0m\u001b[0mos\u001b[0m\u001b[1;33m.\u001b[0m\u001b[0mpath\u001b[0m\u001b[1;33m.\u001b[0m\u001b[0mjoin\u001b[0m\u001b[1;33m(\u001b[0m\u001b[0mmodel_directory\u001b[0m\u001b[1;33m,\u001b[0m \u001b[1;34m\"cp.mod\"\u001b[0m\u001b[1;33m)\u001b[0m\u001b[1;33m)\u001b[0m\u001b[1;33m\u001b[0m\u001b[1;33m\u001b[0m\u001b[0m\n\u001b[0m\u001b[0;32m      7\u001b[0m \u001b[0mampl\u001b[0m\u001b[1;33m.\u001b[0m\u001b[0mread_data\u001b[0m\u001b[1;33m(\u001b[0m\u001b[0mos\u001b[0m\u001b[1;33m.\u001b[0m\u001b[0mpath\u001b[0m\u001b[1;33m.\u001b[0m\u001b[0mjoin\u001b[0m\u001b[1;33m(\u001b[0m\u001b[0mmodel_directory\u001b[0m\u001b[1;33m,\u001b[0m \u001b[1;34m\"cp.dat\"\u001b[0m\u001b[1;33m)\u001b[0m\u001b[1;33m)\u001b[0m\u001b[1;33m\u001b[0m\u001b[1;33m\u001b[0m\u001b[0m\n\u001b[0;32m      8\u001b[0m \u001b[1;33m\u001b[0m\u001b[0m\n",
      "\u001b[1;31mNameError\u001b[0m: name 'ampl' is not defined"
     ]
    }
   ],
   "source": [
    "# Read in AMPL Files and set Path \n",
    "# Model_Directory is the path for the folder containing the .dat and .mod files\n",
    "model_directory = os.path.join(\"[enter path]\")\n",
    "\n",
    "#Edit cp.mod and cp.dat to your mod and dat files\n",
    "ampl.read(os.path.join(model_directory, \"cp.mod\"))\n",
    "ampl.read_data(os.path.join(model_directory, \"cp.dat\"))\n",
    "\n",
    "# Solve AMPL\n",
    "ampl.solve()\n",
    "\n",
    "\n",
    "# Print your results below"
   ]
  },
  {
   "cell_type": "markdown",
   "metadata": {},
   "source": []
  }
 ],
 "metadata": {
  "kernelspec": {
   "display_name": "Python 3 (ipykernel)",
   "language": "python",
   "name": "python3"
  },
  "language_info": {
   "codemirror_mode": {
    "name": "ipython",
    "version": 3
   },
   "file_extension": ".py",
   "mimetype": "text/x-python",
   "name": "python",
   "nbconvert_exporter": "python",
   "pygments_lexer": "ipython3",
   "version": "3.9.12"
  }
 },
 "nbformat": 4,
 "nbformat_minor": 4
}
